{
 "cells": [
  {
   "cell_type": "markdown",
   "metadata": {},
   "source": [
    "# Fraud Detection - ML Final Project\n",
    "## CS 4563\n",
    "Authors:\n",
    " - Sergey Hovhannisyan\n",
    " - Arnav Kanwal"
   ]
  },
  {
   "cell_type": "markdown",
   "metadata": {},
   "source": [
    "## Dataset\n",
    "Dataset: https://www.kaggle.com/datasets/mlg-ulb/creditcardfraud\n"
   ]
  },
  {
   "cell_type": "code",
   "execution_count": 1,
   "metadata": {},
   "outputs": [],
   "source": [
    "# Add some general imported libraries here\n",
    "\n",
    "import pandas as pd\n",
    "import numpy as np\n",
    "import matplotlib.pyplot as plt\n",
    "%matplotlib inline\n",
    "\n",
    "\n",
    "from sklearn.model_selection import train_test_split\n",
    "from sklearn import preprocessing\n",
    "from sklearn import linear_model\n",
    "\n"
   ]
  },
  {
   "cell_type": "code",
   "execution_count": 2,
   "metadata": {},
   "outputs": [],
   "source": [
    "# Reading the CSV File\n",
    "df = pd.read_csv(\"creditcard.csv\", na_values='?')\n",
    "df = df.dropna()\n"
   ]
  },
  {
   "cell_type": "markdown",
   "metadata": {},
   "source": [
    "### Preprocess data: Split into train, test, and validation sets"
   ]
  },
  {
   "cell_type": "code",
   "execution_count": 29,
   "metadata": {},
   "outputs": [
    {
     "name": "stdout",
     "output_type": "stream",
     "text": [
      "Training target statistics: Counter({0: 227447, 1: 398})\n",
      "Testing target statistics: Counter({0: 56868, 1: 94})\n",
      "Training target statistics after undersampling: Counter({0: 398, 1: 398})\n",
      "Testing target statistics: Counter({0: 94, 1: 94})\n"
     ]
    }
   ],
   "source": [
    "X = np.array(df.loc[:, df.columns != 'Class'])\n",
    "y = np.array(df['Class'])\n",
    "\n",
    "from collections import Counter\n",
    "X_train_val, X_test, y_train_val, y_test = train_test_split(X, y, test_size=0.2, random_state=10)\n",
    "\n",
    "# Use counter to print our current test-statistics, as you can see the data is highly imbalanced\n",
    "print(f\"Training target statistics: {Counter(y_train_val)}\")\n",
    "print(f\"Testing target statistics: {Counter(y_test)}\")\n",
    "\n",
    "\n",
    "# We use an under_sampling algorithm called NearMiss to help balance our train data\n",
    "from imblearn.under_sampling import NearMiss\n",
    "under_sampler = NearMiss()\n",
    "X_train, y_train = under_sampler.fit_resample(X_train_val, y_train_val)\n",
    "X_test, y_test = under_sampler.fit_resample(X_test, y_test)\n",
    "print(f\"Training target statistics after undersampling: {Counter(y_train)}\")\n",
    "print(f\"Testing target statistics: {Counter(y_test)}\")\n",
    "\n"
   ]
  },
  {
   "cell_type": "markdown",
   "metadata": {},
   "source": [
    "### Applying a Logistic Regression Model\n",
    "Here will try two different types of regularization and apply some feature transformations and see how well this model will perform against the data.\n",
    "\n",
    "https://analyticsindiamag.com/using-near-miss-algorithm-for-imbalanced-datasets/"
   ]
  },
  {
   "cell_type": "code",
   "execution_count": 14,
   "metadata": {},
   "outputs": [],
   "source": [
    "# Import libraries used for Logistic Regression\n",
    "from sklearn.model_selection import train_test_split\n",
    "from sklearn.linear_model import LogisticRegression\n",
    "from sklearn.linear_model import LogisticRegressionCV\n",
    "from sklearn.preprocessing import PolynomialFeatures"
   ]
  },
  {
   "cell_type": "code",
   "execution_count": 30,
   "metadata": {},
   "outputs": [
    {
     "name": "stdout",
     "output_type": "stream",
     "text": [
      "Accuracy of logistic regression with no regularization and transformation X^1: 0.8936170212765957\n",
      "Accuracy of logistic regression with no regularization and transformation X^2: 0.851063829787234\n",
      "Accuracy of logistic regression with no regularization and transformation X^3: 0.8457446808510638\n",
      "--------------------\n",
      "Logistic Regression Accuracy with K^3, L2 Regularization and C=0.1 is: 0.8723404255319149\n",
      "Logistic Regression Accuracy with K^3, L1 Regularization and C=0.1 is: 0.8776595744680851\n",
      "Logistic Regression Accuracy with K^4, L2 Regularization and C=1000.0 is: 0.8670212765957447\n",
      "Logistic Regression Accuracy with K^4, L1 Regularization and C=1.0 is: 0.8723404255319149\n",
      "Logistic Regression Accuracy with K^5, L2 Regularization and C=100.0 is: 0.8617021276595744\n",
      "Logistic Regression Accuracy with K^5, L1 Regularization and C=1.0 is: 0.8723404255319149\n",
      "Logistic Regression Accuracy with K^6, L2 Regularization and C=10.0 is: 0.8776595744680851\n",
      "Logistic Regression Accuracy with K^6, L1 Regularization and C=1.0 is: 0.8723404255319149\n",
      "Logistic Regression Accuracy with K^7, L2 Regularization and C=0.1 is: 0.8776595744680851\n",
      "Logistic Regression Accuracy with K^7, L1 Regularization and C=1.0 is: 0.8723404255319149\n",
      "Logistic Regression Accuracy with K^8, L2 Regularization and C=0.1 is: 0.8829787234042553\n",
      "Logistic Regression Accuracy with K^8, L1 Regularization and C=1000000.0 is: 0.8776595744680851\n",
      "Logistic Regression Accuracy with K^9, L2 Regularization and C=10.0 is: 0.8829787234042553\n",
      "Logistic Regression Accuracy with K^9, L1 Regularization and C=1.0 is: 0.8723404255319149\n",
      "-------------\n",
      "Our best results were L2 Regularization with C=0.1 and score = 0.8829787234042553\n"
     ]
    }
   ],
   "source": [
    "# Let's start by testing logistic regression accuracy without regularization on a variety of different feature transformations\n",
    "for i in range(1, 4):\n",
    "    poly = PolynomialFeatures(i)\n",
    "    X_train_new = poly.fit_transform(X_train)\n",
    "    X_test_new = poly.fit_transform(X_test)\n",
    "    logreg = LogisticRegression(max_iter=1000, penalty='none')\n",
    "    logreg.fit(X_train_new, y_train)\n",
    "    y_pred = logreg.predict(X_test_new)\n",
    "    print(f'Accuracy of logistic regression with no regularization and transformation X^{i}: {logreg.score(X_test_new, y_test)}')\n",
    "\n",
    "# As we can see, our new polynomial transformation features before worse against the test data, so we will stick\n",
    "# our original train data.\n",
    "\n",
    "# The next step will be using K-fold cross validation to help us identify the best hyperparameters\n",
    "# as well as see if we can get our model's performance to improve and decrease overfitting by\n",
    "# adding regularization.\n",
    "\n",
    "best_score = [0, 0, 0]\n",
    "best_y_pred = None\n",
    "\n",
    "print(\"--------------------\")\n",
    "C = [0.0001, 0.1, 1, 10, 100, 1000, 1000000]\n",
    "for k in range(7):\n",
    "    L2_logreg = LogisticRegressionCV(Cs=C, cv=k+3, max_iter=1000)\n",
    "    L2_logreg.fit(X_train, y_train)\n",
    "    y_pred = L2_logreg.predict(X_test)\n",
    "    score = L2_logreg.score(X_test, y_test)\n",
    "    print(f'Logistic Regression Accuracy with K^{k+3}, L2 Regularization and C={max(L2_logreg.C_)} is: {score}')\n",
    "\n",
    "    if score > best_score[0]:\n",
    "        best_score[0], best_score[1] = score, max(L2_logreg.C_)\n",
    "        best_score[2] = 2\n",
    "        best_y_pred = y_pred\n",
    "\n",
    "    L1_logreg = LogisticRegressionCV(Cs=C, cv=k+3, max_iter=10000, penalty='l1', solver='liblinear')\n",
    "    L1_logreg.fit(X_train, y_train)\n",
    "    y_pred = L1_logreg.predict(X_test)\n",
    "    score = L1_logreg.score(X_test, y_test)\n",
    "    print(f'Logistic Regression Accuracy with K^{k+3}, L1 Regularization and C={max(L1_logreg.C_)} is: {score}')\n",
    "\n",
    "    if score > best_score[0]:\n",
    "        best_score[0], best_score[1] = score, max(L2_logreg.C_)\n",
    "        best_score[2] = 1\n",
    "        best_y_pred = y_pred\n",
    "\n",
    "print(\"-------------\")\n",
    "print(f\"Our best results were L{best_score[2]} Regularization with C={best_score[1]} and score = {best_score[0]}\")"
   ]
  },
  {
   "cell_type": "markdown",
   "metadata": {},
   "source": [
    "### Let's plot a confusion matrix of our results and get an idea of prediction accuracy\n",
    "https://towardsdatascience.com/logistic-regression-using-python-sklearn-numpy-mnist-handwriting-recognition-matplotlib-a6b31e2b166a"
   ]
  },
  {
   "cell_type": "code",
   "execution_count": 31,
   "metadata": {},
   "outputs": [
    {
     "data": {
      "text/plain": [
       "Text(0.5, 1.0, 'Confusion Matrix of X with Accuracy Score: 0.8829787234042553')"
      ]
     },
     "execution_count": 31,
     "metadata": {},
     "output_type": "execute_result"
    },
    {
     "data": {
      "image/png": "[encoded data removed]",
      "text/plain": [
       "<Figure size 432x288 with 2 Axes>"
      ]
     },
     "metadata": {
      "needs_background": "light"
     },
     "output_type": "display_data"
    }
   ],
   "source": [
    "import seaborn as sns\n",
    "from sklearn import metrics\n",
    "\n",
    "cm = metrics.confusion_matrix(y_test, best_y_pred)\n",
    "sns.heatmap(cm, annot=True, fmt=\".3f\", cmap = 'Blues_r')\n",
    "plt.ylabel('Actual label')\n",
    "plt.xlabel('Predicted label')\n",
    "all_sample_title = f'Confusion Matrix of X with Accuracy Score: {best_score[0]}'\n",
    "plt.title(all_sample_title)"
   ]
  },
  {
   "cell_type": "markdown",
   "metadata": {},
   "source": [
    "### Important Metrics for our Logistic Regression Model\n",
    "We'll calculate the f-score, accuracy, prediction, and recall of our results from above."
   ]
  },
  {
   "cell_type": "code",
   "execution_count": 32,
   "metadata": {},
   "outputs": [
    {
     "name": "stdout",
     "output_type": "stream",
     "text": [
      "Precision: 0.840\n",
      "Recall: 0.947\n",
      "Accuracy: 0.883\n",
      "F1-Score: 0.890\n"
     ]
    }
   ],
   "source": [
    "from sklearn.metrics import precision_score, recall_score, f1_score, accuracy_score\n",
    "\n",
    "print('Precision: %.3f' % precision_score(y_test, best_y_pred))\n",
    "print('Recall: %.3f' % recall_score(y_test, best_y_pred))\n",
    "print('Accuracy: %.3f' % accuracy_score(y_test, best_y_pred))\n",
    "print('F1-Score: %.3f' % f1_score(y_test, best_y_pred))"
   ]
  }
 ],
 "metadata": {
  "kernelspec": {
   "display_name": "Python 3.9.5 64-bit",
   "language": "python",
   "name": "python3"
  },
  "language_info": {
   "codemirror_mode": {
    "name": "ipython",
    "version": 3
   },
   "file_extension": ".py",
   "mimetype": "text/x-python",
   "name": "python",
   "nbconvert_exporter": "python",
   "pygments_lexer": "ipython3",
   "version": "3.9.5"
  },
  "orig_nbformat": 4,
  "vscode": {
   "interpreter": {
    "hash": "7812ea015bdcee6f23a998adcdd2ef97c151c0c241b7b7070987d9313e41299d"
   }
  }
 },
 "nbformat": 4,
 "nbformat_minor": 2
}
